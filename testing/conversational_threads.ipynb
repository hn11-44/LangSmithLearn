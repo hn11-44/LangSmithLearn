{
 "cells": [
  {
   "cell_type": "markdown",
   "id": "afd480d7",
   "metadata": {},
   "source": [
    "# Setup"
   ]
  },
  {
   "cell_type": "markdown",
   "id": "abbffa1d",
   "metadata": {},
   "source": [
    "Like always we will staret with our setup. In order to setup we would require our LANGCGAIN_API_KEY, GOOGLE_API_KEY as well as setting our tracing to true and giving our project a name. "
   ]
  },
  {
   "cell_type": "code",
   "execution_count": 1,
   "id": "6f33301b",
   "metadata": {},
   "outputs": [],
   "source": [
    "import os\n",
    "import getpass\n",
    "from dotenv import load_dotenv\n",
    "\n",
    "\n",
    "load_dotenv(dotenv_path = '../.env')\n",
    "\n",
    "# Configuration function to grab our API_KEYS from .env file\n",
    "def _get_config(api_name : str): \n",
    "\n",
    "    if api_name in os.environ:\n",
    "\n",
    "        print(f\"Using {api_name} from environment variables.\")\n",
    "        return os.environ[api_name]\n",
    "    else: \n",
    "        print(getpass.getpass(f\"Please enter your {api_name}: \"))\n"
   ]
  },
  {
   "cell_type": "code",
   "execution_count": 3,
   "id": "5d3dfbc6",
   "metadata": {},
   "outputs": [
    {
     "name": "stdout",
     "output_type": "stream",
     "text": [
      "Using LANGCHAIN_API_KEY from environment variables.\n",
      "Using GOOGLE_API_KEY from environment variables.\n",
      "Using LANGCHAIN_TRACING_V2 from environment variables.\n",
      "Project Name : Conversational Threads\n"
     ]
    }
   ],
   "source": [
    "# API KEYS\n",
    "\n",
    "LANGCHAIN_API_KEY = _get_config(\"LANGCHAIN_API_KEY\")\n",
    "GOOGLE_API_KEY = _get_config(\"GOOGLE_API_KEY\")\n",
    "\n",
    "\n",
    "# Tracing \n",
    "\n",
    "LANGCHAIN_TRACING_V2 = _get_config(\"LANGCHAIN_TRACING_V2\")\n",
    "\n",
    "\n",
    "# Name the Project for Langchain\n",
    "LANGCHAIN_PROJECT = \"Conversational Threads\"\n",
    "print(f\"Project Name : {LANGCHAIN_PROJECT}\")"
   ]
  },
  {
   "cell_type": "code",
   "execution_count": null,
   "id": "6c4fdd06",
   "metadata": {},
   "outputs": [],
   "source": []
  }
 ],
 "metadata": {
  "kernelspec": {
   "display_name": "langchainlearn",
   "language": "python",
   "name": "python3"
  },
  "language_info": {
   "codemirror_mode": {
    "name": "ipython",
    "version": 3
   },
   "file_extension": ".py",
   "mimetype": "text/x-python",
   "name": "python",
   "nbconvert_exporter": "python",
   "pygments_lexer": "ipython3",
   "version": "3.11.13"
  }
 },
 "nbformat": 4,
 "nbformat_minor": 5
}
